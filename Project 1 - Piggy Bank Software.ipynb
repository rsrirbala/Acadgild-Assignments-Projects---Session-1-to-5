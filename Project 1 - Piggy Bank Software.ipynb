{
 "cells": [
  {
   "cell_type": "markdown",
   "metadata": {},
   "source": [
    "### We should create a Piggy Bank application for school children to teach them importance of savings. They should have the options to:\n",
    "-  Add Money\n",
    "-  Withdraw Money\n",
    "-  Check the current amount in the Piggy Bank"
   ]
  },
  {
   "cell_type": "code",
   "execution_count": 2,
   "metadata": {},
   "outputs": [],
   "source": [
    "class Piggy_Bank:\n",
    "    '''Piggy Bank Class supports Deposit Withdraw and Balance check'''\n",
    "    def __init__(self):\n",
    "        self.balance = 0\n",
    "        self.tempAmount = 0\n",
    "    \n",
    "    def Start(self):\n",
    "        str = \"Start\";\n",
    "        inp = \"\";\n",
    "        print(str.center(50, '-'))\n",
    "        inp = input(\"Start or End:\");\n",
    "        while inp != \"End\":\n",
    "            operation = input(\"Add ,Withdraw or Check :\")\n",
    "            if(operation == \"Add\"):\n",
    "                self.tempAmount = int(input(\"Add Amount:\"))\n",
    "                self.Add(self.tempAmount)\n",
    "                print(\"After adding, your updated balance is {0:.1f} rupees\".format(self.Check()))\n",
    "                inp = input(\"Start or End:\");\n",
    "            elif operation == \"Withdraw\":\n",
    "                self.tempAmount = int(input(\"Withdraw Amount:\"))\n",
    "                self.Withdraw(self.tempAmount)\n",
    "                print(\"After withdraw, your updated balance is {0:.1f} rupees\".format(self.Check()))\n",
    "                inp = input(\"Start or End:\");\n",
    "            elif operation == \"Check\":\n",
    "                print(\"Your current balance is {0:.1f} rupees\".format(self.Check()))\n",
    "                inp = input(\"Start or End:\");\n",
    "                \n",
    "    def Add(self, amount):\n",
    "        self.balance += amount\n",
    "    \n",
    "    def Withdraw(self, amount):\n",
    "        if(self.Check() > amount):\n",
    "            self.balance -= amount\n",
    "        else :\n",
    "            print(\"UnSufficient Balance\")\n",
    "    \n",
    "    def Check(self):\n",
    "        return self.balance"
   ]
  },
  {
   "cell_type": "code",
   "execution_count": null,
   "metadata": {},
   "outputs": [],
   "source": []
  },
  {
   "cell_type": "code",
   "execution_count": null,
   "metadata": {},
   "outputs": [],
   "source": []
  }
 ],
 "metadata": {
  "kernelspec": {
   "display_name": "Python 3",
   "language": "python",
   "name": "python3"
  },
  "language_info": {
   "codemirror_mode": {
    "name": "ipython",
    "version": 3
   },
   "file_extension": ".py",
   "mimetype": "text/x-python",
   "name": "python",
   "nbconvert_exporter": "python",
   "pygments_lexer": "ipython3",
   "version": "3.7.1"
  }
 },
 "nbformat": 4,
 "nbformat_minor": 2
}
